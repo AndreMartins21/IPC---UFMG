{
  "nbformat": 4,
  "nbformat_minor": 0,
  "metadata": {
    "colab": {
      "name": "Prova1.ipynb",
      "provenance": [],
      "collapsed_sections": [],
      "authorship_tag": "ABX9TyPr/9DOEvhH++6GUu9Z4xXR",
      "include_colab_link": true
    },
    "kernelspec": {
      "name": "python3",
      "display_name": "Python 3"
    },
    "language_info": {
      "name": "python"
    }
  },
  "cells": [
    {
      "cell_type": "markdown",
      "metadata": {
        "id": "view-in-github",
        "colab_type": "text"
      },
      "source": [
        "<a href=\"https://colab.research.google.com/github/AndreMartins21/IPC-UFMG/blob/main/Prova1.ipynb\" target=\"_parent\"><img src=\"https://colab.research.google.com/assets/colab-badge.svg\" alt=\"Open In Colab\"/></a>"
      ]
    },
    {
      "cell_type": "markdown",
      "metadata": {
        "id": "ZBBP51t1VBnG"
      },
      "source": [
        "# **PROVA 1 (30/12/21)**"
      ]
    },
    {
      "cell_type": "markdown",
      "metadata": {
        "id": "xFu7166vVGkW"
      },
      "source": [
        "###Problema 1"
      ]
    },
    {
      "cell_type": "code",
      "metadata": {
        "colab": {
          "base_uri": "https://localhost:8080/"
        },
        "id": "RsB-aJcdUpAr",
        "outputId": "ec8f5d77-db27-4cbb-bb7f-8b513c23bf64"
      },
      "source": [
        "# -*- coding: utf-8 -*-\n",
        "\n",
        "vp = float(input(f\"Digite o valor do investimento inicial: \"))\n",
        "i = float(input(f\"Digite a taxa de juros anual: \"))\n",
        "n = int(input(f\"Digite o período do investimento em anos: \"))\n",
        "\n",
        "vf = vp * (1 + (i*0.01))**n\n",
        "\n",
        "print(f\"Valor futuro: {vf:.2f}\")"
      ],
      "execution_count": null,
      "outputs": [
        {
          "output_type": "stream",
          "name": "stdout",
          "text": [
            "Digite o valor do investimento inicial: 4030.50\n",
            "Digite a taxa de juros anual: 2.0\n",
            "Digite o período do investimento em anos: 3\n",
            "Valor futuro: 4277.20\n"
          ]
        }
      ]
    },
    {
      "cell_type": "markdown",
      "metadata": {
        "id": "Gr8s8AIBWhHr"
      },
      "source": [
        "###Problema 2\n"
      ]
    },
    {
      "cell_type": "code",
      "metadata": {
        "colab": {
          "base_uri": "https://localhost:8080/"
        },
        "id": "iwn8-uNjWjkS",
        "outputId": "b50ca05d-6649-4a6b-d6fe-ee702ec1c912"
      },
      "source": [
        "# -*- coding: utf-8 -*-\n",
        "\n",
        "pedro = float(input(\"Digite o valor que o Pedro apostou: \"))\n",
        "joao = float(input(\"Digite o valor que o Joao apostou: \"))\n",
        "marcela = float(input(\"Digite o valor que a Marcela apostou: \"))\n",
        "\n",
        "premio = int(input(\"Digite o valor do prêmio: \"))\n",
        "\n",
        "def valores(premio, *val):\n",
        "  lista = [premio*(val[i] / sum(val)) for i in range(3)]\n",
        "  return lista\n",
        "\n",
        "v = valores(premio, pedro, joao, marcela)\n",
        "\n",
        "print(f\"Prêmio do Pedro: {v[0]:.2f}\")\n",
        "print(f\"Prêmio do João: {v[1]:.2f}\")\n",
        "print(f\"Prêmio da Marcela: {v[2]:.2f}\")"
      ],
      "execution_count": null,
      "outputs": [
        {
          "output_type": "stream",
          "name": "stdout",
          "text": [
            "Digite o valor que o Pedro apostou: 1.5\n",
            "Digite o valor que o Joao apostou: 4.0\n",
            "Digite o valor que a Marcela apostou: 5.0\n",
            "Digite o valor do prêmio: 500000\n",
            "Prêmio do Pedro: 71428.57\n",
            "Prêmio do João: 190476.19\n",
            "Prêmio da Marcela: 238095.24\n"
          ]
        }
      ]
    },
    {
      "cell_type": "markdown",
      "metadata": {
        "id": "i7xUlJ4_bbFQ"
      },
      "source": [
        "###Problema 3\n"
      ]
    },
    {
      "cell_type": "code",
      "metadata": {
        "colab": {
          "base_uri": "https://localhost:8080/"
        },
        "id": "PDD4pJLBbc0g",
        "outputId": "ca899b5f-caf1-4942-bb28-e573a068737c"
      },
      "source": [
        "# -*- coding: utf-8 -*-\n",
        "\n",
        "n = int(input(\"Digite um número: \"))\n",
        "\n",
        "suc_triplo = n*3 + 1\n",
        "ant_dobro = n*2 - 1\n",
        "\n",
        "print(f\"Resultado: {suc_triplo + ant_dobro}\")"
      ],
      "execution_count": null,
      "outputs": [
        {
          "output_type": "stream",
          "name": "stdout",
          "text": [
            "Digite um número: 1\n",
            "Resultado: 5\n"
          ]
        }
      ]
    },
    {
      "cell_type": "markdown",
      "metadata": {
        "id": "9BhsYASocQP_"
      },
      "source": [
        "###Problema 4"
      ]
    },
    {
      "cell_type": "code",
      "metadata": {
        "colab": {
          "base_uri": "https://localhost:8080/"
        },
        "id": "HMbYEB9GcRuR",
        "outputId": "3d92f082-8818-479d-ada1-a869286fd8e7"
      },
      "source": [
        "# -*- coding: utf-8 -*-\n",
        "\n",
        "n = int(input(\"Digite um inteiro de 4 algarismos: \"))\n",
        "\n",
        "soma_n = sum([int(x) for x in str(n)])\n",
        "\n",
        "print(f\"Resultado: {soma_n}\")"
      ],
      "execution_count": null,
      "outputs": [
        {
          "output_type": "stream",
          "name": "stdout",
          "text": [
            "Digite um inteiro de 4 algarismos: 2\n",
            "Resultado: 2\n"
          ]
        }
      ]
    }
  ]
}
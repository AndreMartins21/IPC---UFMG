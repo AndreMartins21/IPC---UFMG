{
  "nbformat": 4,
  "nbformat_minor": 0,
  "metadata": {
    "colab": {
      "name": "Prova5.ipynb",
      "provenance": [],
      "collapsed_sections": [],
      "authorship_tag": "ABX9TyMXwhAu2H4E5+oJS4jqHJGz",
      "include_colab_link": true
    },
    "kernelspec": {
      "name": "python3",
      "display_name": "Python 3"
    },
    "language_info": {
      "name": "python"
    }
  },
  "cells": [
    {
      "cell_type": "markdown",
      "metadata": {
        "id": "view-in-github",
        "colab_type": "text"
      },
      "source": [
        "<a href=\"https://colab.research.google.com/github/AndreMartins21/IPC-UFMG/blob/main/PROVAS/Prova5.ipynb\" target=\"_parent\"><img src=\"https://colab.research.google.com/assets/colab-badge.svg\" alt=\"Open In Colab\"/></a>"
      ]
    },
    {
      "cell_type": "markdown",
      "metadata": {
        "id": "D_cHGfE4it69"
      },
      "source": [
        "# **PROVA 5 (18/12/21)**"
      ]
    },
    {
      "cell_type": "markdown",
      "metadata": {
        "id": "dUEYIIRWit7O"
      },
      "source": [
        "###Problema 1"
      ]
    },
    {
      "cell_type": "code",
      "metadata": {
        "colab": {
          "base_uri": "https://localhost:8080/"
        },
        "outputId": "39ab5b94-f86d-4f2a-96d7-5dec174c7009",
        "id": "-3BPAFOwit7O"
      },
      "source": [
        "# -*- coding: utf-8 -*-\n",
        "\n",
        "a, b = [[int(input()) for x in range(5)] for y in range(2)]\n",
        "\n",
        "inter = [x for x in a if x in b]\n",
        "\n",
        "print(f\"Interseção: {inter}\")"
      ],
      "execution_count": null,
      "outputs": [
        {
          "output_type": "stream",
          "name": "stdout",
          "text": [
            "Interseção: [3, 5]\n"
          ]
        }
      ]
    },
    {
      "cell_type": "markdown",
      "metadata": {
        "id": "lLqecC-Tit7P"
      },
      "source": [
        "### Problema 2"
      ]
    },
    {
      "cell_type": "code",
      "metadata": {
        "colab": {
          "base_uri": "https://localhost:8080/"
        },
        "outputId": "62dc23a8-7f72-445f-c28a-99efbd27fd45",
        "id": "qkTGcRzBit7P"
      },
      "source": [
        "# -*- coding: utf-8 -*-\n",
        "\n",
        "lista = [1 for i in range(10)]#[float(input()) for x in range(10)]\n",
        "n = len(lista)\n",
        "media = sum(lista) / n\n",
        "desvio = 0\n",
        "\n",
        "for v in lista:\n",
        "  desvio += (v - media)**(2)\n",
        "desvio = (desvio / (n-1))**(1/2)\n",
        "\n",
        "print(f'Desvio Padrão: {desvio:.2f}')"
      ],
      "execution_count": null,
      "outputs": [
        {
          "output_type": "stream",
          "name": "stdout",
          "text": [
            "Desvio Padrão: 0.00\n"
          ]
        }
      ]
    },
    {
      "cell_type": "markdown",
      "metadata": {
        "id": "2oxePj1git7P"
      },
      "source": [
        "### Problema 3"
      ]
    },
    {
      "cell_type": "code",
      "metadata": {
        "colab": {
          "base_uri": "https://localhost:8080/"
        },
        "outputId": "4e65fee6-f2cb-4059-eb97-90bd0f8445e1",
        "id": "A_tDst12it7P"
      },
      "source": [
        "# -*- coding: utf-8 -*-\n",
        "\n",
        "d = int(input(\"Digite a dimensão: \"))\n",
        "v1, v2 = [[int(input()) for i in range(d)] for x in range(2)]\n",
        "escalar = sum([v1[i]*v2[i] for i in range(d)])\n",
        "\n",
        "print(f\"Produto Escalar: {escalar}\")"
      ],
      "execution_count": null,
      "outputs": [
        {
          "output_type": "stream",
          "name": "stdout",
          "text": [
            "Digite a dimensão: 3\n",
            "1\n",
            "2\n",
            "3\n",
            "1\n",
            "2\n",
            "3\n",
            "Produto Escalar: 14\n"
          ]
        }
      ]
    },
    {
      "cell_type": "markdown",
      "metadata": {
        "id": "Xhk1wSj3it7R"
      },
      "source": [
        "### Problema 4"
      ]
    },
    {
      "cell_type": "code",
      "metadata": {
        "colab": {
          "base_uri": "https://localhost:8080/"
        },
        "outputId": "095d3440-3e3c-47d2-c1b0-d0f18c94800a",
        "id": "3CgmAxR3it7R"
      },
      "source": [
        "# -*- coding: utf-8 -*-\n",
        "\n",
        "def has_duplicates(lista:list) -> bool:\n",
        "  val = {}\n",
        "  for v in lista:\n",
        "    if v in val.keys():\n",
        "      return True\n",
        "    val[v] = 1\n",
        "  return False\n",
        "\n",
        "has_duplicates([1, 2, 4, 3])"
      ],
      "execution_count": null,
      "outputs": [
        {
          "output_type": "execute_result",
          "data": {
            "text/plain": [
              "False"
            ]
          },
          "metadata": {},
          "execution_count": 26
        }
      ]
    },
    {
      "cell_type": "markdown",
      "metadata": {
        "id": "CSqabKFxit7R"
      },
      "source": [
        "### Problema 5"
      ]
    },
    {
      "cell_type": "code",
      "metadata": {
        "colab": {
          "base_uri": "https://localhost:8080/"
        },
        "outputId": "1071db09-f1aa-4781-b39c-ffe8315cf835",
        "id": "uO0XhDQoit7S"
      },
      "source": [
        "# -*- coding: utf-8 -*-\n",
        "\n",
        "def tamanho_maior_string(l:list) -> int:\n",
        "  try:\n",
        "    maior = max([len(x) for x in l])\n",
        "    return maior\n",
        "  except ValueError:\n",
        "    return 0\n",
        "  \n",
        "tamanho_maior_string(\"\")"
      ],
      "execution_count": null,
      "outputs": [
        {
          "output_type": "execute_result",
          "data": {
            "text/plain": [
              "0"
            ]
          },
          "metadata": {},
          "execution_count": 33
        }
      ]
    }
  ]
}
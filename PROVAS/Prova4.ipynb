{
  "nbformat": 4,
  "nbformat_minor": 0,
  "metadata": {
    "colab": {
      "name": "Prova4.ipynb",
      "provenance": [],
      "collapsed_sections": [
        "AkNCRrULhvx6"
      ],
      "authorship_tag": "ABX9TyP4VW1WMY1gA8GJX8qGpkNP",
      "include_colab_link": true
    },
    "kernelspec": {
      "name": "python3",
      "display_name": "Python 3"
    },
    "language_info": {
      "name": "python"
    }
  },
  "cells": [
    {
      "cell_type": "markdown",
      "metadata": {
        "id": "view-in-github",
        "colab_type": "text"
      },
      "source": [
        "<a href=\"https://colab.research.google.com/github/AndreMartins21/IPC-UFMG/blob/main/Prova4.ipynb\" target=\"_parent\"><img src=\"https://colab.research.google.com/assets/colab-badge.svg\" alt=\"Open In Colab\"/></a>"
      ]
    },
    {
      "cell_type": "markdown",
      "metadata": {
        "id": "AkNCRrULhvx6"
      },
      "source": [
        "# **PROVA 4 (29/11/21)**"
      ]
    },
    {
      "cell_type": "markdown",
      "metadata": {
        "id": "1r_QQvL6h0Q6"
      },
      "source": [
        "###Problema 1"
      ]
    },
    {
      "cell_type": "code",
      "metadata": {
        "colab": {
          "base_uri": "https://localhost:8080/"
        },
        "id": "rPLppJH8h2xD",
        "outputId": "c1f89e13-4560-455d-b01c-d6c56815d427"
      },
      "source": [
        "# -*- coding: utf-8 -*-\n",
        "\n",
        "def soma_divisores(n:int):\n",
        "  soma = 0\n",
        "  for div in range(1, int(n/2)+1):\n",
        "    if n % div == 0:\n",
        "      soma += div\n",
        "  return soma\n",
        "\n",
        "def testes():\n",
        "  print(soma_divisores(39))\n",
        "  # 117 - (1, 2, 4, 5, 10, 20, 25, 50)\n",
        "  # 17\n",
        "\n",
        "testes()"
      ],
      "execution_count": null,
      "outputs": [
        {
          "output_type": "stream",
          "name": "stdout",
          "text": [
            "17\n"
          ]
        }
      ]
    },
    {
      "cell_type": "markdown",
      "metadata": {
        "id": "_bB8v6dyq0PA"
      },
      "source": [
        "### Problema 2"
      ]
    },
    {
      "cell_type": "code",
      "metadata": {
        "colab": {
          "base_uri": "https://localhost:8080/"
        },
        "id": "QfxYvRK3le5y",
        "outputId": "611d85aa-64ad-430d-9b95-bcabf91f8aac"
      },
      "source": [
        "# -*- coding: utf-8 -*-\n",
        "\n",
        "def H(n:int):\n",
        "  soma = 0\n",
        "  for i in range(1, n+1):\n",
        "    soma += 1 / i\n",
        "  return round(soma, 2)\n",
        "\n",
        "n = int(input(\"Digite n: \"))\n",
        "\n",
        "print(f\"Resultado: {H(n):.2f}\")"
      ],
      "execution_count": null,
      "outputs": [
        {
          "output_type": "stream",
          "name": "stdout",
          "text": [
            "Digite n: 6\n",
            "Resultado: 2.45\n"
          ]
        }
      ]
    },
    {
      "cell_type": "markdown",
      "metadata": {
        "id": "t9GZv0vSq2vn"
      },
      "source": [
        "### Problema 3"
      ]
    },
    {
      "cell_type": "code",
      "metadata": {
        "colab": {
          "base_uri": "https://localhost:8080/"
        },
        "id": "-JFlF3Hfm5UQ",
        "outputId": "4f921b5c-c649-4f33-97b6-daae0f390dce"
      },
      "source": [
        "# -*- coding: utf-8 -*-\n",
        "\n",
        "carlos = float(input(\"Digite o salário de Carlos: \"))\n",
        "poupanca = float(input(\"Digite o rendimento da poupança(%): \"))\n",
        "renda_fixa = float(input(\"Digite o rendimento do fundo de renda fixa(%): \"))\n",
        "\n",
        "joao = carlos/3\n",
        "\n",
        "count = 0\n",
        "while True:\n",
        "  if joao >= carlos:\n",
        "    break\n",
        "  carlos += carlos*(poupanca/100)\n",
        "  joao += joao*(renda_fixa/100)\n",
        "  count += 1\n",
        "\n",
        "print(f\"Meses: {count}\")"
      ],
      "execution_count": null,
      "outputs": [
        {
          "output_type": "stream",
          "name": "stdout",
          "text": [
            "Meses: 42\n"
          ]
        }
      ]
    },
    {
      "cell_type": "markdown",
      "metadata": {
        "id": "LGdewAI8q3_w"
      },
      "source": [
        "### Problema 4"
      ]
    },
    {
      "cell_type": "code",
      "metadata": {
        "colab": {
          "base_uri": "https://localhost:8080/"
        },
        "id": "8rMhPCHSm7oX",
        "outputId": "f44ec36c-1abb-487d-c39c-b40e94a27834"
      },
      "source": [
        "# -*- coding: utf-8 -*-\n",
        "\n",
        "def check_raiz(x:int, y:int):\n",
        "  for i in range(x, y+1):\n",
        "    if (i**(1/2)).is_integer():\n",
        "      print(i)\n",
        "\n",
        "x, y = [int(input(f\"Digite o valor de {v}: \")) for v in \"xy\"]\n",
        "\n",
        "check_raiz(x, y)"
      ],
      "execution_count": null,
      "outputs": [
        {
          "output_type": "stream",
          "name": "stdout",
          "text": [
            "Digite o valor de x: 20\n",
            "Digite o valor de y: 64\n",
            "25\n",
            "36\n",
            "49\n",
            "64\n"
          ]
        }
      ]
    },
    {
      "cell_type": "markdown",
      "metadata": {
        "id": "Mq0y4L_pq5Vv"
      },
      "source": [
        "### Problema 5"
      ]
    },
    {
      "cell_type": "code",
      "metadata": {
        "colab": {
          "base_uri": "https://localhost:8080/"
        },
        "id": "WYliuHCvpWrc",
        "outputId": "5e9bf9ca-b812-41f6-ef83-d5a198dfc39a"
      },
      "source": [
        "# -*- coding: utf-8 -*-\n",
        "n, num = 0, []\n",
        "\n",
        "\n",
        "while True:\n",
        "  n = int(input(\"Digite um número: \"))\n",
        "  \n",
        "  if n < 0: break\n",
        "\n",
        "  num.append(n)\n",
        "\n",
        "print(f\"Maior: {max(num)}\")\n",
        "print(f\"Menor: {min(num)}\")"
      ],
      "execution_count": null,
      "outputs": [
        {
          "output_type": "stream",
          "name": "stdout",
          "text": [
            "Digite um número: 8\n",
            "Digite um número: 6\n",
            "Digite um número: 13\n",
            "Digite um número: 9\n",
            "Digite um número: 0\n",
            "Digite um número: -1\n",
            "Maior: 13\n",
            "Menor: 0\n"
          ]
        }
      ]
    }
  ]
}

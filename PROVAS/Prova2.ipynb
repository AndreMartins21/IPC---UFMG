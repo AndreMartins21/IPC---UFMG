{
  "nbformat": 4,
  "nbformat_minor": 0,
  "metadata": {
    "colab": {
      "name": "Prova2.ipynb",
      "provenance": [],
      "collapsed_sections": [
        "rd5mHxaH3xzt"
      ],
      "authorship_tag": "ABX9TyOcUJQsQ//YppyLlN7ykVBt",
      "include_colab_link": true
    },
    "kernelspec": {
      "name": "python3",
      "display_name": "Python 3"
    },
    "language_info": {
      "name": "python"
    }
  },
  "cells": [
    {
      "cell_type": "markdown",
      "metadata": {
        "id": "view-in-github",
        "colab_type": "text"
      },
      "source": [
        "<a href=\"https://colab.research.google.com/github/AndreMartins21/IPC-UFMG/blob/main/Prova2.ipynb\" target=\"_parent\"><img src=\"https://colab.research.google.com/assets/colab-badge.svg\" alt=\"Open In Colab\"/></a>"
      ]
    },
    {
      "cell_type": "markdown",
      "metadata": {
        "id": "rd5mHxaH3xzt"
      },
      "source": [
        "# **PROVA 2 (10/11/21)**\n",
        "\n"
      ]
    },
    {
      "cell_type": "markdown",
      "metadata": {
        "id": "_B9H6L4a34MY"
      },
      "source": [
        "### Problema 1"
      ]
    },
    {
      "cell_type": "code",
      "metadata": {
        "colab": {
          "base_uri": "https://localhost:8080/"
        },
        "id": "bMlw2I6q308l",
        "outputId": "f463b0a0-a3e7-410c-98b6-7ec9be406d7e"
      },
      "source": [
        "# -*- coding: utf-8 -*-\n",
        "\n",
        "numeros = [int(input(f\"Digite o {n} número: \")) for n in [\"primeiro\", \"segundo\", \"terceiro\"]]\n",
        "\n",
        "mediana = sorted(numeros)[1]\n",
        "\n",
        "print(f\"Mediana: {mediana}\")"
      ],
      "execution_count": null,
      "outputs": [
        {
          "output_type": "stream",
          "name": "stdout",
          "text": [
            "Digite o primeiro número: 2\n",
            "Digite o segundo número: 8\n",
            "Digite o terceiro número: 6\n",
            "Mediana: 6\n"
          ]
        }
      ]
    },
    {
      "cell_type": "markdown",
      "metadata": {
        "id": "eXsDwfFa4VHk"
      },
      "source": [
        "###Problema 2"
      ]
    },
    {
      "cell_type": "code",
      "metadata": {
        "colab": {
          "base_uri": "https://localhost:8080/"
        },
        "id": "JZSdErZk4W_N",
        "outputId": "e1f5bdc3-a02e-451a-ba4b-6d96f0b3c62e"
      },
      "source": [
        "# -*- coding: utf-8 -*-\n",
        "\n",
        "lados = [int(input(f\"Digite o comprimento do {l} lado: \")) for l in [\"primeiro\", \"segundo\", \"terceiro\"]]\n",
        "\n",
        "def condition(l):\n",
        "  if (l[1] + l[2] < l[0]) or (l[0]+l[2] < l[1]) or (l[0]+l[1] < l[2]):\n",
        "    return \"Não é um triângulo\"\n",
        "  elif sum(l) == l[0]*3:\n",
        "    return \"Triângulo Equilátero\" \n",
        "  elif (l[0] == l[1]) or (l[1] == l[2]) or (l[2] == l[0]):\n",
        "    return \"Triângulo Isósceles\"\n",
        "  return \"Triângulo Escaleno\"\n",
        "\n",
        "print(condition(lados))"
      ],
      "execution_count": null,
      "outputs": [
        {
          "output_type": "stream",
          "name": "stdout",
          "text": [
            "Digite o comprimento do primeiro lado: 10\n",
            "Digite o comprimento do segundo lado: 11\n",
            "Digite o comprimento do terceiro lado: 12\n",
            "Triângulo Escaleno\n"
          ]
        }
      ]
    },
    {
      "cell_type": "markdown",
      "metadata": {
        "id": "3xt43_kY4XZE"
      },
      "source": [
        "###Problema 3"
      ]
    },
    {
      "cell_type": "code",
      "metadata": {
        "colab": {
          "base_uri": "https://localhost:8080/"
        },
        "id": "Av1ZPphN4YpD",
        "outputId": "ca304581-7d2f-4a44-be41-c4f684509ac7"
      },
      "source": [
        "# -*- coding: utf-8 -*-\n",
        "\n",
        "valor = float(input(\"Digite o valor da hora de trabalho: \"))\n",
        "hora = 1int(input(\"Digite a quantidade de horas trabalhadas no mês: \"))\n",
        "salario = valor * hora\n",
        "\n",
        "ir = salario * (0 if salario <= 900 else 0.05 if salario <= 1500 else 0.1 if salario <= 2500 else 0.2)\n",
        "inss = salario*0.1\n",
        "desconto = sum([ir, inss])\n",
        "\n",
        "dicio = {\n",
        "    \"Salário Bruto\": salario,\n",
        "    \"IR\": ir,\n",
        "    \"INSS\": inss,\n",
        "    \"FGTS\": salario*0.11,\n",
        "    \"Total de descontos\": desconto,\n",
        "    \"Salário Líquido\": salario - desconto\n",
        "}\n",
        "\n",
        "for k, v in dicio.items():\n",
        "  print(f\"{k}: R$ {v:.2f}\")"
      ],
      "execution_count": null,
      "outputs": [
        {
          "output_type": "stream",
          "name": "stdout",
          "text": [
            "Digite o valor da hora de trabalho: 16\n",
            "Digite a quantidade de horas trabalhadas no mês: 160\n",
            "Salário Bruto: R$ 2560.00\n",
            "IR: R$ 512.00\n",
            "INSS: R$ 256.00\n",
            "FGTS: R$ 281.60\n",
            "Total de descontos: R$ 768.00\n",
            "Salário Líquido: R$ 1792.00\n"
          ]
        }
      ]
    },
    {
      "cell_type": "markdown",
      "metadata": {
        "id": "nG_MAKLf4ZFU"
      },
      "source": [
        "###Problema 4"
      ]
    },
    {
      "cell_type": "code",
      "metadata": {
        "colab": {
          "base_uri": "https://localhost:8080/"
        },
        "id": "iwhvHwDC4aoz",
        "outputId": "859a053e-e948-4497-cc46-af2ad41b9a57"
      },
      "source": [
        "# -*- coding: utf-8 -*-\n",
        "\n",
        "a, b, c = [float(input(f\"Digite o valor de {coef}: \")) for coef in \"abc\"]\n",
        "\n",
        "def condition_delta(d):\n",
        "  if d < 0:\n",
        "    return -1\n",
        "  elif d == 0:\n",
        "    return 1\n",
        "  return \n",
        "\n",
        "def raiz():\n",
        "  if a != 0:\n",
        "    d = b**2 - 4*a*c\n",
        "    delta = condition_delta(d)\n",
        "    x1, x2 = (-b+d**(1/2))/(2*a), (-b-d**(1/2))/(2*a)\n",
        "\n",
        "    if delta == -1:\n",
        "      return f\"Não existe raiz real\"\n",
        "    if delta == 1:\n",
        "      return f\"Raíz única \\nRaiz = {x1:.2f}\"\n",
        "    return f\"Raiz 1 = {x1:.2f} \\nRaiz 2 = {x2:.2f}\"\n",
        "  return \"Não é uma equação quadrática\"\n",
        "\n",
        "print(raiz())"
      ],
      "execution_count": null,
      "outputs": [
        {
          "output_type": "stream",
          "name": "stdout",
          "text": [
            "Digite o valor de a: 3\n",
            "Digite o valor de b: 6\n",
            "Digite o valor de c: 2\n",
            "Raiz 1 = -0.42 \n",
            "Raiz 2 = -1.58\n"
          ]
        }
      ]
    }
  ]
}

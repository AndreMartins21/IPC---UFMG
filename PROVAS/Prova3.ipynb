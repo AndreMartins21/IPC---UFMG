{
  "nbformat": 4,
  "nbformat_minor": 0,
  "metadata": {
    "colab": {
      "name": "Prova3.ipynb",
      "provenance": [],
      "collapsed_sections": [
        "Nu1paL7Daaxh"
      ],
      "authorship_tag": "ABX9TyN3ei8HzPWtIOJSGcojdMRn",
      "include_colab_link": true
    },
    "kernelspec": {
      "name": "python3",
      "display_name": "Python 3"
    },
    "language_info": {
      "name": "python"
    }
  },
  "cells": [
    {
      "cell_type": "markdown",
      "metadata": {
        "id": "view-in-github",
        "colab_type": "text"
      },
      "source": [
        "<a href=\"https://colab.research.google.com/github/AndreMartins21/IPC-UFMG/blob/main/Prova3.ipynb\" target=\"_parent\"><img src=\"https://colab.research.google.com/assets/colab-badge.svg\" alt=\"Open In Colab\"/></a>"
      ]
    },
    {
      "cell_type": "markdown",
      "metadata": {
        "id": "Nu1paL7Daaxh"
      },
      "source": [
        "# **PROVA 3 (20/11/21)**"
      ]
    },
    {
      "cell_type": "markdown",
      "metadata": {
        "id": "anBG161TaeyI"
      },
      "source": [
        "### Problema 1"
      ]
    },
    {
      "cell_type": "code",
      "metadata": {
        "colab": {
          "base_uri": "https://localhost:8080/"
        },
        "id": "gVYASbe0agQm",
        "outputId": "6e9da71b-3cc5-4396-cadb-10ea9ad4c142"
      },
      "source": [
        "# -*- coding: utf-8 -*-\n",
        "\n",
        "def fizz_buzz(n:int) -> str:\n",
        "  if n % 3 == 0 and n % 5 == 0:\n",
        "    return \"FizzBuzz\"\n",
        "  elif n % 3 == 0:\n",
        "    return \"Fizz\"\n",
        "  elif n % 5 == 0:\n",
        "    return \"Buzz\"\n",
        "  return n\n",
        "\n",
        "fizz_buzz(1)"
      ],
      "execution_count": null,
      "outputs": [
        {
          "output_type": "execute_result",
          "data": {
            "text/plain": [
              "1"
            ]
          },
          "metadata": {},
          "execution_count": 8
        }
      ]
    },
    {
      "cell_type": "markdown",
      "metadata": {
        "id": "edalY0XIc0WP"
      },
      "source": [
        "### Problema 2"
      ]
    },
    {
      "cell_type": "code",
      "metadata": {
        "colab": {
          "base_uri": "https://localhost:8080/",
          "height": 35
        },
        "id": "ITW31JlXc16P",
        "outputId": "210759d4-249c-45f8-d645-c5e1550d977b"
      },
      "source": [
        "# -*- coding: utf-8 -*-\n",
        "\n",
        "def consumo(dist, litros):\n",
        "  d = dist / litros\n",
        "  cons = (\"Venda o carro!\" if d < 8 else \"Econômico!\" if d < 12 else \"Super econômico!\")\n",
        "  return cons\n",
        "\n",
        "consumo(9000, 100)"
      ],
      "execution_count": null,
      "outputs": [
        {
          "output_type": "execute_result",
          "data": {
            "application/vnd.google.colaboratory.intrinsic+json": {
              "type": "string"
            },
            "text/plain": [
              "'Super econômico!'"
            ]
          },
          "metadata": {},
          "execution_count": 11
        }
      ]
    },
    {
      "cell_type": "markdown",
      "metadata": {
        "id": "86vytZVUdzcg"
      },
      "source": [
        "### Problema 3"
      ]
    },
    {
      "cell_type": "code",
      "metadata": {
        "colab": {
          "base_uri": "https://localhost:8080/"
        },
        "id": "nUVEhCR-d0kf",
        "outputId": "c0d5f1ae-328c-4219-9774-af31079943b8"
      },
      "source": [
        "def estacionamento(h_ent:int, min_ent:int, h_sai:int, min_sai:int) -> float:\n",
        "  entrada = h_ent*60 + min_ent\n",
        "  saida = h_sai*60 + min_sai\n",
        "  total = (saida - entrada) / 60\n",
        "  if h_ent > h_sai:\n",
        "    total = (24*60 - (entrada) + saida) / 60\n",
        "  \n",
        "  tempo = total if total.is_integer() else int(total) + 1\n",
        "  \n",
        "  preco_h = (\n",
        "      1 if tempo <= 2 else \n",
        "      1.4 if tempo <= 4 \n",
        "      else 2)\n",
        "\n",
        "  return preco_h*tempo\n",
        "\n",
        "e = lambda a, b, c, d: estacionamento(a, b, c, d)\n",
        "\n",
        "def testes():\n",
        "  t1 = e(18, 50, 22, 49) \n",
        "  t2 = e(20, 30, 8, 0)\n",
        "  t3 = e(10, 30, 17, 50)\n",
        "  t4 = e(21, 10, 00, 10)\n",
        "  t5 = e(14, 10, 13, 10)\n",
        "\n",
        "  _ = [print(t) for t in [t1, t2, t3, t4, t5]]\n",
        "\n",
        "testes()"
      ],
      "execution_count": null,
      "outputs": [
        {
          "output_type": "stream",
          "name": "stdout",
          "text": [
            "5.6\n",
            "24\n",
            "16\n",
            "4.2\n",
            "46.0\n"
          ]
        }
      ]
    },
    {
      "cell_type": "code",
      "metadata": {
        "colab": {
          "base_uri": "https://localhost:8080/"
        },
        "id": "sgzjG1NqzU_u",
        "outputId": "9c90b91c-5f68-49f5-ac40-956115561dc3"
      },
      "source": [
        "def estacionamento(h_ent, min_ent, h_sai, min_sai):\n",
        "  entrada_em_min = h_ent*60 + min_ent\n",
        "  saida_em_min = h_sai*60 + min_sai\n",
        "  total = (saida_em_min - entrada_em_min) / 60\n",
        "  dia = 24*60\n",
        "\n",
        "  if h_ent > h_sai:\n",
        "    # Se for, por exemplo 20h -> 08h, considera-se a mudança de dia\n",
        "    total = (dia - (entrada_em_min) + saida_em_min) / 60 \n",
        "  \n",
        "  if total.is_integer():\n",
        "    # Se o total der número inteiro, retornará o próprio valor\n",
        "    tempo_total = total\n",
        "  else:\n",
        "    # Caso contrário, irá retornar o valor inteiro somado de 1, haja vista a \n",
        "    # regra proposta no exercício\n",
        "    tempo_total = int(total) + 1\n",
        "  \n",
        "  preco_hora = (\n",
        "      1 if tempo_total <= 2 else 1.4 if tempo_total <= 4 else 2)\n",
        "\n",
        "  return preco_hora*tempo_total\n",
        "\n",
        "e = lambda a, b, c, d: estacionamento(a, b, c, d)\n",
        "\n",
        "def testes():\n",
        "  t1 = e(18, 50, 22, 49) \n",
        "  t2 = e(20, 30, 8, 0)\n",
        "  t3 = e(10, 30, 17, 50)\n",
        "  t4 = e(21, 10, 00, 10)\n",
        "  t5 = e(14, 10, 13, 10)\n",
        "\n",
        "  _ = [print(t) for t in [t1, t2, t3, t4, t5]]\n",
        "\n",
        "testes()"
      ],
      "execution_count": null,
      "outputs": [
        {
          "output_type": "stream",
          "name": "stdout",
          "text": [
            "5.6\n",
            "24\n",
            "16\n",
            "4.199999999999999\n",
            "46.0\n"
          ]
        }
      ]
    }
  ]
}
